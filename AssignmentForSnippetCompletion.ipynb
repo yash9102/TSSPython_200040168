{
 "cells": [
  {
   "cell_type": "markdown",
   "id": "c55016e6",
   "metadata": {},
   "source": [
    "# Assignment: Complete the Snippet\n"
   ]
  },
  {
   "cell_type": "markdown",
   "id": "1bc5dda7",
   "metadata": {},
   "source": [
    "Shubh started building a basic Python Script which goes through the entire text of a particular book and mugs up all its words. After that it asks you for a word, goes over the times when this word came in the text and gives you the complete sentence in which it was used. You may choose to ask for as many such sentences as the number of occurences of the word.\n",
    "\n",
    "He's managed to come up with the part where he loads the file into Memory. He also managed to come up with snippets of code which could potentially do something if completed, but he has many deadlines to look after and not enough caffeine to turn to code. Can you help him?"
   ]
  },
  {
   "cell_type": "code",
   "execution_count": 6,
   "id": "89247014",
   "metadata": {},
   "outputs": [
    {
     "ename": "FileNotFoundError",
     "evalue": "[Errno 2] No such file or directory: 'HarryPotterAndTheSorcerersStone.txt'",
     "output_type": "error",
     "traceback": [
      "\u001b[1;31m---------------------------------------------------------------------------\u001b[0m",
      "\u001b[1;31mFileNotFoundError\u001b[0m                         Traceback (most recent call last)",
      "\u001b[1;32m<ipython-input-6-69a5d2fcbd2e>\u001b[0m in \u001b[0;36m<module>\u001b[1;34m\u001b[0m\n\u001b[1;32m----> 1\u001b[1;33m \u001b[0mFile\u001b[0m \u001b[1;33m=\u001b[0m \u001b[0mopen\u001b[0m\u001b[1;33m(\u001b[0m\u001b[1;34m\"HarryPotterAndTheSorcerersStone.txt\"\u001b[0m\u001b[1;33m,\u001b[0m\u001b[1;34m'r'\u001b[0m\u001b[1;33m)\u001b[0m     \u001b[1;31m#This helps in opening the file which is to be read\u001b[0m\u001b[1;33m\u001b[0m\u001b[1;33m\u001b[0m\u001b[0m\n\u001b[0m",
      "\u001b[1;31mFileNotFoundError\u001b[0m: [Errno 2] No such file or directory: 'HarryPotterAndTheSorcerersStone.txt'"
     ]
    }
   ],
   "source": [
    "File = open(\"HarryPotterAndTheSorcerersStone.txt\",'r')     #This helps in opening the file which is to be read"
   ]
  },
  {
   "cell_type": "markdown",
   "id": "299a8978",
   "metadata": {},
   "source": [
    "Next he makes a list of all the words present in the novel mapping them to their index(position) in the list of words (i.e. ListOfWords). This is done by mapping every word (a string) to a list (list of indices), and this is stored as a Dictionary (DictionaryoOfWords)\n",
    "\n",
    "\n",
    "\n",
    "He makes use of the readlines() method which is used to extract all the lines from any text and the split() function which could be used to split any sentence into distinct words. The replace() method is used on strings to replace certain segments of the string with something else."
   ]
  },
  {
   "cell_type": "code",
   "execution_count": 7,
   "id": "4dfffdae",
   "metadata": {},
   "outputs": [
    {
     "ename": "SyntaxError",
     "evalue": "unexpected character after line continuation character (<ipython-input-7-aeee65b60853>, line 12)",
     "output_type": "error",
     "traceback": [
      "\u001b[1;36m  File \u001b[1;32m\"<ipython-input-7-aeee65b60853>\"\u001b[1;36m, line \u001b[1;32m12\u001b[0m\n\u001b[1;33m    line = line.replace(\".\",\"\").replace(\",\",\"\").replace('?','').replace('!','').replace('[','').replace(']','') \\\u001b[0m\n\u001b[1;37m                                                                                                                  ^\u001b[0m\n\u001b[1;31mSyntaxError\u001b[0m\u001b[1;31m:\u001b[0m unexpected character after line continuation character\n"
     ]
    }
   ],
   "source": [
    "DictionaryOfWords = {}         #Dictionary mapping every word to a list (of indices of the words' occurences)\n",
    "Novel = []                     #List of all words in the order, in which they appear!\n",
    "\n",
    "\n",
    "\n",
    "i = 0                   #Counter Variable to keep track of index of words\n",
    "\n",
    "for line in File.readlines():     #Iterate over all lines present in the text\n",
    "    \n",
    "    #Look at Python's Conciseness!\n",
    "    \n",
    "    line = line.replace(\".\",\"\").replace(\",\",\"\").replace('?','').replace('!','').replace('[','').replace(']','') \\ \n",
    "    .replace('(','').replace(')','').replace('%','').replace('/','').replace('\\','')\n",
    "      \n",
    "    #COMPLETE THE CODE FROM HERE:\n",
    "    \n",
    "    #This would split the line into many different words, and iterate over these words\n",
    "    \n",
    "    for Word in line.split(' '): \n",
    "                                                                             \n",
    "        if Word in DictonaryOfWords.keys():     #If the word is already present in the dictionary\n",
    "                                                                             \n",
    "            DictionaryofWords[Word].append(i)       #Add the index into the pre-existing list for this word\n",
    "                                                                             \n",
    "        else:\n",
    "            DictionaryofWords[Word]=[i]     #Create a new list of indices for this word, with a single element\n",
    "                                                                             \n",
    "        \n",
    "        Novel.append(word)        #Add the Word in the Novel's ordered list of words\n",
    "                                                                             \n",
    "        i+=1\n",
    "    "
   ]
  },
  {
   "cell_type": "markdown",
   "id": "5320110b",
   "metadata": {},
   "source": [
    "That guy truly left a lot of work for you!\n",
    "\n",
    "Now that you've done that, We have the words in the novel alongwith where they appeared in the text loaded into memory (Thanks to You!).\n",
    "\n",
    "The Next Step would be to answer any queries the user may have.\n",
    "\n",
    "To do this, we define the function GetQuery() which returns the word as well as the number of results the user wants to see (as a tuple):\n",
    "\n"
   ]
  },
  {
   "cell_type": "code",
   "execution_count": 8,
   "id": "a3c1fda5",
   "metadata": {},
   "outputs": [],
   "source": [
    "#COMPLETE THE CODE FROM HERE:\n",
    "\n",
    "def GetQuery():\n",
    "   \n",
    "    word =input(\"what word you wants to query for: \")      #Get Input from the user regarding what word s/he wants to query for\n",
    "\n",
    "    Number = input(\"how many results you want to see: \") #Get Input from the user regarding how many results the user wants to see\n",
    "\n",
    "    return (word,Number)                 #Return as output a tuple of the word and the Number of results       "
   ]
  },
  {
   "cell_type": "markdown",
   "id": "968946db",
   "metadata": {},
   "source": [
    "Now, We need a function which takes as input the index of any particular word and prints the words surrounding it as if they were in an actual sentence. \n",
    "\n",
    "This is done by iterating over the words surrounding it, and printing them with gaps in between. We also assume that this occurence isn't a boundary case and thus, the 10 words surronding it actually exist."
   ]
  },
  {
   "cell_type": "code",
   "execution_count": 9,
   "id": "ea13d491",
   "metadata": {},
   "outputs": [],
   "source": [
    "def PrintContext(index):\n",
    "    \n",
    "    global Novel                          #Declares the list Novel as a Global Variable\n",
    "    \n",
    "    #COMPLETE THE CODE FROM HERE:\n",
    "    \n",
    "    for i in range(index-10, index+10):           #Define the range so that the task above is fulfilled\n",
    "        \n",
    "        print(Novel[i], end = ' ')          #Print the word (using List Indexing) with a space after that\n",
    "        \n",
    "    print('\\n')"
   ]
  },
  {
   "cell_type": "markdown",
   "id": "8bf2b43d",
   "metadata": {},
   "source": [
    "The result of the GetQuery() function will be passed into a second function which would take as input the word and the number of results to be displayed and do so!"
   ]
  },
  {
   "cell_type": "code",
   "execution_count": 10,
   "id": "e3cde31f",
   "metadata": {},
   "outputs": [],
   "source": [
    "def PrintResult(word, NumQuery):\n",
    "  \n",
    "    global DictionaryOfWords                #Allows us to use the Dictionary as a global variable\n",
    "    \n",
    "    #COMPLETE THE CODE FROM HERE:\n",
    "    \n",
    "    L = DictionaryOfWords[word] \n",
    "    \n",
    "    for i in range(0,min(len(L),NumQuery)):\n",
    "        \n",
    "        PrintContext()             #Actually print the words surrounding the ith occurence of the given word\n",
    "        "
   ]
  },
  {
   "cell_type": "markdown",
   "id": "9fe9b0ab",
   "metadata": {},
   "source": [
    "Finally, you need an infinite loop which runs until the user wants it to and asks for the next word (if the user wants to query more) or end the loop."
   ]
  },
  {
   "cell_type": "code",
   "execution_count": 5,
   "id": "892110b6",
   "metadata": {},
   "outputs": [
    {
     "ename": "SyntaxError",
     "evalue": "EOL while scanning string literal (<ipython-input-5-f439bde0f98a>, line 3)",
     "output_type": "error",
     "traceback": [
      "\u001b[1;36m  File \u001b[1;32m\"<ipython-input-5-f439bde0f98a>\"\u001b[1;36m, line \u001b[1;32m3\u001b[0m\n\u001b[1;33m    Choice = input('Press Y in order to Continue with the next query or N to end. \\\u001b[0m\n\u001b[1;37m                                                                                    ^\u001b[0m\n\u001b[1;31mSyntaxError\u001b[0m\u001b[1;31m:\u001b[0m EOL while scanning string literal\n"
     ]
    }
   ],
   "source": [
    "while 1>0 :   \n",
    "    \n",
    "    Choice = input('Press Y in order to Continue with the next query or N to end. \\ \n",
    "    Please press Enter after entering your choice!')\n",
    "    \n",
    "    #COMPLETE THE CODE FROM HERE:\n",
    "    \n",
    "    if Choice== \"Y\":\n",
    "        continue              # If the user wants to query \n",
    "        \n",
    "                              #Use some of the past defined function to do so\n",
    "        \n",
    "    else:\n",
    "        \n",
    "        break                                 #Else end the loop"
   ]
  },
  {
   "cell_type": "code",
   "execution_count": null,
   "id": "ea9f9ba0",
   "metadata": {},
   "outputs": [],
   "source": []
  }
 ],
 "metadata": {
  "kernelspec": {
   "display_name": "Python 3",
   "language": "python",
   "name": "python3"
  },
  "language_info": {
   "codemirror_mode": {
    "name": "ipython",
    "version": 3
   },
   "file_extension": ".py",
   "mimetype": "text/x-python",
   "name": "python",
   "nbconvert_exporter": "python",
   "pygments_lexer": "ipython3",
   "version": "3.8.8"
  }
 },
 "nbformat": 4,
 "nbformat_minor": 5
}
